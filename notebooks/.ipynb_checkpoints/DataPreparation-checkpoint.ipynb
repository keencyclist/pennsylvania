{
 "cells": [
  {
   "cell_type": "markdown",
   "metadata": {},
   "source": [
    "# Pennsylvania Bicyclist Crashes 1999 - 2019\n",
    "### Data from [PennDOT](https://pennshare.maps.arcgis.com/apps/webappviewer/index.html?id=8fdbf046e36e41649bbfd9d7dd7c7e7e)\n",
    "\n",
    "Note: 2001 data was not linked from that site and PennDOT so far has not been willing to provide it. 1999 data was available until August 2020 but was removed after PennDOT added 2019 data because they provide a total of 20 years."
   ]
  },
  {
   "cell_type": "markdown",
   "metadata": {},
   "source": [
    "### Data Prepartion\n",
    "\n",
    "This notebook takes unzipped annual files, separates out bicyclist-related crashes, and compiles the annual data into cumulative files for crashes, bicycles involved, motor vehicles involved, and persons involved (including both motorists and bicyclists). I used Tableau for exploratory data analysis."
   ]
  },
  {
   "cell_type": "code",
   "execution_count": 1,
   "metadata": {},
   "outputs": [],
   "source": [
    "import pandas as pd"
   ]
  },
  {
   "cell_type": "markdown",
   "metadata": {},
   "source": [
    "### Recode 2017 and 2019 data files."
   ]
  },
  {
   "cell_type": "code",
   "execution_count": 7,
   "metadata": {},
   "outputs": [],
   "source": [
    "# the 2017 CRASH_2017.csv file has truncated column names\n",
    "# read it, rename columns to be consistent with other years, and write it back to csv\n",
    "vehicle_2017 = pd.read_csv('../rawdata/unzipped/Statewide_2017/VEHICLE_2017.csv',engine='python',error_bad_lines=False)\n",
    "vehicle_2017.rename(columns={\n",
    "   'AVOID_MAN_':'AVOID_MAN_CD',\n",
    "   'COMM_VEH':'COMM_VEH_I',\n",
    " 'DVR_PRES_I':'DVR_PRES_IND',\n",
    " 'EMERG_VEH_': 'EMERG_VEH_USE_CD',\n",
    " 'IMPACT_POI':'IMPACT_POINT',\n",
    " 'OWNER_DRIV':'OWNER_DRIVER',\n",
    " 'PEOPLE_IN_':'PEOPLE_IN_UNIT',\n",
    " 'PRIN_IMP_P': 'PRIN_IMP_PT',\n",
    " 'RDWY_ALIGN':'RDWY_ALIGNMENT',\n",
    " 'SPECIAL_US': 'SPECIAL_USAGE',\n",
    " 'TRAVEL_DIR': 'TRAVEL_DIRECTION',\n",
    " 'TRL_VEH_CN':'TRL_VEH_CNT',\n",
    " 'UNDER_RIDE':'UNDER_RIDE_IND',\n",
    " 'VEH_COLOR_':'VEH_COLOR_CD',\n",
    " 'VEH_MOVEME':'VEH_MOVEMENT',\n",
    " 'VEH_POSITI': 'VEH_POSITION',\n",
    " 'VEH_REG_ST': 'VEH_REG_STATE',\n",
    " 'VEH_ROLE_C': 'VEH_ROLE_CD',\n",
    " 'VINA_BODY_': 'VINA_BODY_TYPE_CD'}\n",
    " , inplace=True)\n",
    "vehicle_2017.to_csv('../rawdata/unzipped/Statewide_2017/VEHICLE_2017.csv')"
   ]
  },
  {
   "cell_type": "code",
   "execution_count": 8,
   "metadata": {},
   "outputs": [],
   "source": [
    "# the 2017 CRASH_2017.csv file has truncated column names\n",
    "# read it, rename columns to be consistent with other years, and write it back to csv\n",
    "flag_2017 = pd.read_csv('../rawdata/unzipped/Statewide_2017/FLAG_2017.csv',engine='python',error_bad_lines=False)\n",
    "flag_2017.rename(columns={\n",
    " 'AGGRESSIVE':'AGGRESSIVE_DRIVING',\n",
    " 'ALCOHOL_RE': 'ALCOHOL_RELATED',\n",
    " 'ANGLE_CRAS': 'ANGLE_CRASH',\n",
    " 'AUTOMOBILE': 'AUTOMOBILE_COUNT',\n",
    " 'BACKUP_CON': 'BACKUP_CONGESTION',\n",
    " 'BACKUP_NON': 'BACKUP_NONRECURRING',\n",
    " 'BACKUP_PRI': 'BACKUP_PRIOR',\n",
    " 'BELTED_DEA': 'BELTED_DEATH_COUNT',\n",
    " 'BELTED_MAJ': 'BELTED_MAJ_INJ_COUNT',\n",
    " 'BICYCLE_CO': 'BICYCLE_COUNT',\n",
    " 'BICYCLE_DE': 'BICYCLE_DEATH_COUNT',\n",
    " 'BICYCLE_MA': 'BICYCLE_MAJ_INJ_COUNT',\n",
    " 'COLLISION_': 'COLLISION_TYPE',\n",
    " 'COMM_VEHIC': 'COMM_VEHICLE',\n",
    " 'COMM_VEH_C': 'COMM_VEH_COUNT',\n",
    " 'CONS_ZONE_': 'CONS_ZONE_SPD_LIM',\n",
    " 'CORE_NETWO': 'CORE_NETWORK',\n",
    " 'COUNTY_NAM': 'COUNTY_NAME',\n",
    " 'COUNTY_YEA': 'COUNTY_YEAR',\n",
    " 'CRASH_MONT': 'CRASH_MONTH',\n",
    " 'CROSS_MEDI': 'CROSS_MEDIAN',\n",
    " 'CURVED_ROA': 'CURVED_ROAD',\n",
    " 'CURVE_DVR_': 'CURVE_DVR_ERROR',\n",
    " 'DAY_OF_WEE': 'DAY_OF_WEEK',\n",
    " 'DEER_RELAT': 'DEER_RELATED',\n",
    " 'DISPATCH_T': 'DISPATCH_TM',\n",
    " 'DISTRICT_N': 'DISTRICT_NAME',\n",
    " 'DRINKING_D': 'DRINKING_DRIVER',\n",
    " 'DRIVER_17Y': 'DRIVER_17YR',\n",
    " 'DRIVER_18Y': 'DRIVER_18YR',\n",
    " 'DRIVER_19Y': 'DRIVER_19YR',\n",
    " 'DRIVER_20Y': 'DRIVER_20YR',\n",
    " 'DRIVER_5NO': 'DRIVER_5NO_64YR',\n",
    " 'DRIVER_65_': 'DRIVER_65_74YR',\n",
    " 'DRIVER_75P': 'DRIVER_75PLUS',\n",
    " 'DRIVER_COU': 'DRIVER_COUNT_16YR',\n",
    " 'DRIVER_C_1': 'DRIVER_COUNT_17YR',\n",
    " 'DRIVER_C_2': 'DRIVER_COUNT_18YR',\n",
    " 'DRIVER_C_3': 'DRIVER_COUNT_19YR',\n",
    " 'DRIVER_C_4': 'DRIVER_COUNT_20YR',\n",
    " 'DRIVER_C_5': 'DRIVER_COUNT_50_64YR',\n",
    " 'DRIVER_C_6': 'DRIVER_COUNT_65_74YR',\n",
    " 'DRIVER_C_7': 'DRIVER_COUNT_75PLUS',\n",
    " 'DRIVER_YES': 'DRIVER_YES6YR',\n",
    " 'DRUGGED_DR': 'DRUGGED_DRIVER',\n",
    " 'DRUG_RELAT': 'DRUG_RELATED',\n",
    " 'EST_HRS_CL': 'EST_HRS_CLOSED',\n",
    " 'FATAL_COUN': 'FATAL_COUNT',\n",
    " 'FATAL_OR_M': 'FATAL_OR_MAJ_INJ',\n",
    " 'FATAL_OR_S': 'FATAL_OR_SUSP_SERIOUS_INJ',\n",
    " 'FATIGUE_AS': 'FATIGUE_ASLEEP',\n",
    " 'FIRE_IN_VE': 'FIRE_IN_VEHICLE',\n",
    " 'HAZARDOUS_': 'HAZARDOUS_TRUCK',\n",
    " 'HEAVY_TRUC': 'HEAVY_TRUCK_COUNT',\n",
    " 'HIT_BARRIE': 'HIT_BARRIER',\n",
    " 'HIT_EMBANK': 'HIT_EMBANKMENT',\n",
    " 'HIT_FIXED_': 'HIT_FIXED_OBJECT',\n",
    " 'HIT_GDRA_1': 'HIT_GDRAIL_END',\n",
    " 'HIT_PARKED': 'HIT_PARKED_VEHICLE',\n",
    " 'HIT_TREE_S': 'HIT_TREE_SHRUB',\n",
    " 'HORSE_BUGG': 'HORSE_BUGGY',\n",
    " 'HOUR_OF_DA': 'HOUR_OF_DAY',\n",
    " 'HO_OPPDIR_': 'HO_OPPDIR_SDSWP',\n",
    " 'HVY_TRUCK_': 'HVY_TRUCK_RELATED',\n",
    " 'ILLEGAL_DR': 'ILLEGAL_DRUG_RELATED',\n",
    " 'ILLUMINATI': 'ILLUMINATION',\n",
    " 'ILLUMINA_1': 'ILLUMINATION_DARK',\n",
    " 'IMPAIRED_D': 'IMPAIRED_DRIVER',\n",
    " 'INJURY_COU': 'INJURY_COUNT',\n",
    " 'INJURY_OR_': 'INJURY_OR_FATAL',\n",
    " 'INTERSECTI': 'INTERSECTION',\n",
    " 'INTERSECT_': 'INTERSECT_TYPE',\n",
    " 'LANE_CLOSE': 'LANE_CLOSED',\n",
    " 'LANE_DEPAR': 'LANE_DEPARTURE',\n",
    " 'LIMIT_65MP': 'LIMIT_65MPH',\n",
    " 'LIMIT_70MP': 'LIMIT_70MPH',\n",
    " 'LN_CLOSE_D': 'LN_CLOSE_DIR',\n",
    " 'LOCAL_ROAD': 'LOCAL_ROAD_ONLY',\n",
    " 'LOCATION_T': 'LOCATION_TYPE',\n",
    " 'MAJOR_INJU': 'MAJOR_INJURY',\n",
    " 'MAJ_INJ_CO': 'MAJ_INJ_COUNT',\n",
    " 'MAX_SEVERI': 'MAX_SEVERITY_LEVEL',\n",
    " 'MCYCLE_DEA': 'MCYCLE_DEATH_COUNT',\n",
    " 'MCYCLE_MAJ': 'MCYCLE_MAJ_INJ_COUNT',\n",
    " 'MC_DRINKIN': 'MC_DRINKING_DRIVER',\n",
    " 'MINOR_INJU': 'MINOR_INJURY',\n",
    " 'MIN_INJ_CO': 'MIN_INJ_COUNT',\n",
    " 'MODERATE_I': 'MODERATE_INJURY',\n",
    " 'MOD_INJ_CO': 'MOD_INJ_COUNT',\n",
    " 'MOTORCYC_1': 'MOTORCYCLE_COUNT',\n",
    " 'MULTIPLE_V': 'MULTIPLE_VEHICLE',\n",
    " 'MUNICIPALI': 'MUNICIPALITY',\n",
    " 'MUNICIPA_1': 'MUNICIPALITY_NAME',\n",
    " 'NHTSA_AGG_': 'NHTSA_AGG_DRIVING',\n",
    " 'NON_INTERS': 'NON_INTERSECTION',\n",
    " 'NO_CLEARAN': 'NO_CLEARANCE',\n",
    " 'NTFY_HIWY_': 'NTFY_HIWY_MAINT',\n",
    " 'OPIOID_REL': 'OPIOID_RELATED',\n",
    " 'OTHER_FREE': 'OTHER_FREEWAY_EXPRESSWAY',\n",
    " 'PED_DEATH_': 'PED_DEATH_COUNT',\n",
    " 'PED_MAJ_IN': 'PED_MAJ_INJ_COUNT',\n",
    " 'PERSON_COU': 'PERSON_COUNT',\n",
    " 'PHANTOM_VE': 'PHANTOM_VEHICLE',\n",
    " 'POLICE_AGC': 'POLICE_AGCY',\n",
    " 'POLICE_A_1': 'POLICE_AGCY_NAME',\n",
    " 'POSSIBLE_I': 'POSSIBLE_INJURY',\n",
    " 'PROPERTY_D': 'PROPERTY_DAMAGE_ONLY',\n",
    " 'PSP_REPORT': 'PSP_REPORTED',\n",
    " 'RDWY_SURF_': 'RDWY_SURF_TYPE_CD',\n",
    " 'ROAD_CONDI': 'ROAD_CONDITION',\n",
    " 'RUNNING_RE': 'RUNNING_RED_LT',\n",
    " 'RUNNING_ST': 'RUNNING_STOP_SIGN',\n",
    " 'SCHOOL_B_1': 'SCHOOL_BUS_UNIT',\n",
    " 'SCHOOL_ZON': 'SCHOOL_ZONE',\n",
    " 'SCH_BUS_IN': 'SCH_BUS_IND',\n",
    " 'SCH_ZONE_I': 'SCH_ZONE_IND',\n",
    " 'SHLDR_RELA': 'SHLDR_RELATED',\n",
    " 'SIGNALIZED': 'SIGNALIZED_INT',\n",
    " 'SINGLE_VEH': 'SINGLE_VEHICLE',\n",
    " 'SMALL_TRUC': 'SMALL_TRUCK_COUNT',\n",
    " 'SNOW_SLUSH': 'SNOW_SLUSH_ROAD',\n",
    " 'SPEC_JURIS': 'SPEC_JURIS_CD',\n",
    " 'SPEEDING_R': 'SPEEDING_RELATED',\n",
    " 'STOP_CONTR': 'STOP_CONTROLLED_INT',\n",
    " 'SUDDEN_DEE': 'SUDDEN_DEER',\n",
    " 'SUSPECTED1': 'SUSPECTED_MINOR_INJURY',\n",
    " 'SUSPECTED_': 'SUSPECTED_SERIOUS_INJURY',\n",
    " 'SV_RUN_OFF': 'SV_RUN_OFF_RD',\n",
    " 'TCD_FUNC_C': 'TCD_FUNC_CD',\n",
    " 'TFC_DETOUR': 'TFC_DETOUR_IND',\n",
    " 'TIME_OF_DA': 'TIME_OF_DAY',\n",
    " 'TOTAL_UNIT': 'TOTAL_UNITS',\n",
    " 'TOT_INJ_CO': 'TOT_INJ_COUNT',\n",
    " 'TRAIN_TROL': 'TRAIN_TROLLEY',\n",
    " 'UNBELTED_O': 'UNBELTED_OCC_COUNT',\n",
    " 'UNB_DEATH_': 'UNB_DEATH_COUNT',\n",
    " 'UNB_MAJ_IN': 'UNB_MAJ_INJ_COUNT',\n",
    " 'UNDERAGE_D': 'UNDERAGE_DRNK_DRV',\n",
    " 'UNK_INJ_DE': 'UNK_INJ_DEG_COUNT',\n",
    " 'UNK_INJ_PE': 'UNK_INJ_PER_COUNT',\n",
    " 'UNSIGNALIZ': 'UNSIGNALIZED_INT',\n",
    " 'URBAN_RURA': 'URBAN_RURAL',\n",
    " 'VEHICLE_CO': 'VEHICLE_COUNT',\n",
    " 'VEHICLE_FA': 'VEHICLE_FAILURE',\n",
    " 'VEHICLE_TO': 'VEHICLE_TOWED',\n",
    " 'WORKERS_PR': 'WORKERS_PRES',\n",
    " 'WORK_ZONE1': 'WORK_ZONE_LOC',\n",
    " 'WORK_ZONE_': 'WORK_ZONE_TYPE',\n",
    " 'WZ_CLOSE_D': 'WZ_CLOSE_DETOUR',\n",
    " 'WZ_LAW_OFF': 'WZ_LAW_OFFCR_IND',\n",
    " 'WZ_LN_CLOS': 'WZ_LN_CLOSURE',\n",
    " 'WZ_SHLDER_': 'WZ_SHLDER_MDN'}\n",
    "                  , inplace=True)\n",
    "flag_2017.to_csv('../rawdata/unzipped/Statewide_2017/FLAG_2017.csv')"
   ]
  },
  {
   "cell_type": "code",
   "execution_count": 90,
   "metadata": {},
   "outputs": [],
   "source": [
    "# 2019 has the same name for this column as in the data dictionary, but all the previous years have VEH_ROLE_CD\n",
    "vehicle2019 = pd.read_csv('../rawdata/unzipped/Statewide_2019/VEHICLE_2019_STATEWIDE.csv',engine='python',error_bad_lines=False)\n",
    "vehicle2019.rename(columns={\n",
    "'VEH_ROLE': 'VEH_ROLE_CD'}\n",
    "                  , inplace=True)\n",
    "vehicle2019.to_csv('../rawdata/unzipped/Statewide_2019/VEHICLE_2019_STATEWIDE.csv')  "
   ]
  },
  {
   "cell_type": "markdown",
   "metadata": {},
   "source": [
    "### Read and Compile Annual Data Files"
   ]
  },
  {
   "cell_type": "code",
   "execution_count": 71,
   "metadata": {},
   "outputs": [],
   "source": [
    "# get data for each year\n",
    "def get_data(year):\n",
    "    if year < 2017:\n",
    "        suffix = '_Statewide.csv'\n",
    "    elif year == 2019:\n",
    "        suffix = '_STATEWIDE.csv'\n",
    "    else:\n",
    "        suffix = '.csv' # 2017 & 2018 file names lack \"_statewide\"\n",
    "    vehicle_file = '../rawdata/unzipped/Statewide_' + str(year) + '/VEHICLE_' +  str(year) + suffix\n",
    "    vehicle = pd.read_csv(vehicle_file,engine='python',error_bad_lines=False)\n",
    "    if year == 2002:\n",
    "        bike_mask = (vehicle.VEH_TYPE.isin(['20','21'])) # coded as string that year only\n",
    "    else:\n",
    "        bike_mask = (vehicle.VEH_TYPE.isin([20,21])) # codes 20 and 21 are bicycle and other pedalcycle\n",
    "    bicycles = vehicle[bike_mask]\n",
    "    # get all others (MV and pedestrians) involved in bicycle crashes\n",
    "    mask = (vehicle.CRN.isin(bicycles.CRN)) & (~(vehicle[bike_mask]))\n",
    "    others_involved = vehicle[mask]\n",
    "    del vehicle\n",
    "    \n",
    "    cycle_file = '../rawdata/unzipped/Statewide_' + str(year) + '/CYCLE_' +  str(year) + suffix\n",
    "    cycle = pd.read_csv(cycle_file,engine='python',error_bad_lines=False)\n",
    "    mask = (cycle.CRN.isin(bicycles.CRN))\n",
    "    cycle = cycle[mask]\n",
    "    # we only need the pedalcyclist (PC) columns from cycle\n",
    "    cols_to_add = ['CRN', 'UNIT_NUM','PC_HDLGHT_IND', 'PC_HLMT_IND', 'PC_PASSNGR_IND', 'PC_REAR_RFLTR_IND']\n",
    "    # use left join to preserve records that do not have corresponding values in cycle\n",
    "    bicycles = pd.merge(bicycles,cycle[cols_to_add],how='left',on=['CRN','UNIT_NUM'])\n",
    "    del cycle\n",
    "      \n",
    "    crash_file = '../rawdata/unzipped/Statewide_' + str(year) + '/CRASH_' +  str(year) + suffix\n",
    "    crash = pd.read_csv(crash_file,engine='python',error_bad_lines=False) \n",
    "    mask = (crash.CRN.isin(bicycles.CRN))\n",
    "    bike_crashes = crash[mask] \n",
    "    del crash\n",
    "\n",
    "    flag_file = '../rawdata/unzipped/Statewide_' + str(year) + '/FLAG_' +  str(year) + suffix\n",
    "    flag = pd.read_csv(flag_file,engine='python',error_bad_lines=False) \n",
    "    mask = (flag.CRN.isin(bicycles.CRN))\n",
    "    flag = flag[mask]\n",
    "    # we only need a few columns from flag - mostly about driver actions & impairment\n",
    "    cols_to_add = ['CRN', 'AGGRESSIVE_DRIVING','ALCOHOL_RELATED', 'DRUGGED_DRIVER', 'DRUG_RELATED',\n",
    "                   'FATIGUE_ASLEEP', 'ILLEGAL_DRUG_RELATED', 'IMPAIRED_DRIVER', 'NHTSA_AGG_DRIVING',\n",
    "                   'RUNNING_RED_LT', 'RUNNING_STOP_SIGN', 'SPEEDING_RELATED','DISTRACTED','TAILGATING']\n",
    "    bike_crashes = pd.merge(bike_crashes,flag[cols_to_add],how='left',on='CRN')\n",
    "    del flag\n",
    "    \n",
    "    person_file = '../rawdata/unzipped/Statewide_' + str(year) + '/PERSON_' +  str(year) + suffix\n",
    "    person = pd.read_csv(person_file,engine='python',error_bad_lines=False) \n",
    "    mask = (person.CRN.isin(bicycles.CRN))\n",
    "    persons_involved = person[mask]\n",
    "    del person\n",
    "    \n",
    "    roadway_file = '../rawdata/unzipped/Statewide_' + str(year) + '/ROADWAY_' +  str(year) + suffix\n",
    "    roadway = pd.read_csv(roadway_file,engine='python',error_bad_lines=False) \n",
    "    mask = (roadway.CRN.isin(bicycles.CRN))\n",
    "    road = roadway[mask]\n",
    "    del roadway\n",
    "    \n",
    "    return bicycles, others_involved, bike_crashes, persons_involved, road "
   ]
  },
  {
   "cell_type": "code",
   "execution_count": 72,
   "metadata": {},
   "outputs": [
    {
     "name": "stderr",
     "output_type": "stream",
     "text": [
      "Skipping line 142255: ',' expected after '\"'\n",
      "Skipping line 130657: ',' expected after '\"'\n",
      "Skipping line 84055: ',' expected after '\"'\n",
      "Skipping line 173425: ',' expected after '\"'\n",
      "Skipping line 182489: ',' expected after '\"'\n",
      "Skipping line 71656: ',' expected after '\"'\n",
      "Skipping line 106354: ',' expected after '\"'\n",
      "Skipping line 154124: ',' expected after '\"'\n",
      "Skipping line 134896: ',' expected after '\"'\n"
     ]
    }
   ],
   "source": [
    "bicycles_dfs, others_involved_dfs, bike_crashes_dfs, person_dfs, road_dfs = ([] for i in range(5))\n",
    "# loop over data years available reading data and storing it in list\n",
    "years = (x for x in range(1999,2020) if x != 2001) # 2001 is missing\n",
    "for year in years:\n",
    "    bicycles, others_involved, bike_crashes, persons_involved, road = get_data(year)\n",
    "        # store DataFrame in list\n",
    "    bicycles_dfs.append(bicycles)\n",
    "    others_involved_dfs.append(others_involved)\n",
    "    bike_crashes_dfs.append(bike_crashes)\n",
    "    person_dfs.append(persons_involved)\n",
    "    road_dfs.append(road)\n",
    "\n",
    "# concatenate the lists into a single df for each of the 5 types\n",
    "bicycles = pd.concat(bicycles_dfs, sort = False)\n",
    "others_involved = pd.concat(others_involved_dfs, sort = False)\n",
    "bike_crashes = pd.concat(bike_crashes_dfs, sort = False)\n",
    "persons_involved = pd.concat(person_dfs, sort = False)\n",
    "roadway = pd.concat(road_dfs, sort = False)"
   ]
  },
  {
   "cell_type": "markdown",
   "metadata": {},
   "source": [
    "### Replace codes with values of categorical variables\n",
    "\n",
    "The codes are from the Data Dictionary."
   ]
  },
  {
   "cell_type": "code",
   "execution_count": 73,
   "metadata": {},
   "outputs": [],
   "source": [
    "def recode_vehicle(vehicle):\n",
    "    vehicle.VEH_ROLE_CD = pd.to_numeric(vehicle.VEH_ROLE_CD,errors='ignore')\n",
    "    map_dict = {0:\"Non-Collision\",1:\"Striking\",2:\"Struck\",3:\"Striking and Struck\"}\n",
    "    vehicle.VEH_ROLE_CD = vehicle.VEH_ROLE_CD.map(map_dict)\n",
    "\n",
    "    vehicle.VEH_TYPE = pd.to_numeric(vehicle.VEH_TYPE,errors='coerce')\n",
    "    map_dict = {1:'Automobile',2:'Motorcycle',3:'Bus',4:'Small truck',5:'Large truck',6:'SUV',7:'Van',\n",
    "                8:'Autocycle',10:'Snowmobile',11:'Farm Equipment',12:'Construction Equipment',13:'ATV',\n",
    "                18:'Other type special vehicle',19:'Unknown type special vehicle',20:'Bicycle',21:'Other Pedalcycle',\n",
    "                22:'Horse and buggy',23:'Horse and rider',24:'Train'}\n",
    "    vehicle.VEH_TYPE = vehicle.VEH_TYPE.map(map_dict)\n",
    "\n",
    "    vehicle.VEH_MOVEMENT = pd.to_numeric(vehicle.VEH_MOVEMENT,errors='coerce')\n",
    "    map_dict = {1:'Going straight',2:'Slowing or stopping in lane',3:'Stopped in traffic lane',\n",
    "                4:'Passing or overtaking vehicle',5:'Leaving a parked position',6:'Parked',\n",
    "                7:'Entering a parked position',8:'Trying to avoid animal, pedestrian, object, vehicle, etc.',\n",
    "                9:'Turning right on red',10:'Turning right',11:'Turning left on red',12:'Turning left',\n",
    "                13:'Making a U-turn',14:'Backing up',15:'Changing lanes or merging',\n",
    "                16:'Negotiating curve right',17:'Negotiating curve left',98:'Other',99:'Unknown'}\n",
    "    vehicle.VEH_MOVEMENT = vehicle.VEH_MOVEMENT.map(map_dict)\n",
    "\n",
    "    vehicle.VEH_POSITION = pd.to_numeric(vehicle.VEH_POSITION,errors='coerce')\n",
    "    map_dict = {0:'Not applicable (for peds.)',1:'Right lane (curb)',2:'Right turn lane',\n",
    "                3:'Left lane',4:'Left turn lane',5:'Two-direction center turn lane',\n",
    "                6:'Other forward moving lane',7:'Oncoming traffic lane',8:'Left of trafficway',\n",
    "                9:'Right of trafficway',10:'HOV lane',11:'Shoulder right',12:'Shoulder left',\n",
    "                13:'one lane road',98:'Other',99:'Unknown'}\n",
    "    vehicle.VEH_POSITION = vehicle.VEH_POSITION.map(map_dict)\n",
    "\n",
    "    # note AVOID_MAN_CD is almost completely blank\n",
    "\n",
    "    vehicle.DVR_PRES_IND = pd.to_numeric(vehicle.DVR_PRES_IND,errors='coerce')\n",
    "    map_dict = {1:'Driver Operated Vehicle',2:'No Driver',3:'Driver Fled Scene',4:'Hit and run',9:'Unknown'}\n",
    "    vehicle.DVR_PRES_IND = vehicle.DVR_PRES_IND.map(map_dict)\n",
    "\n",
    "    vehicle.GRADE = pd.to_numeric(vehicle.GRADE,errors='coerce')\n",
    "    map_dict = {1:'Level Roadway',2:'Uphill',3:'Downhill',4:'Sag or bottom of hill',5:'Crest or top of hill',9:'Unknown'}\n",
    "    vehicle.GRADE = vehicle.GRADE.map(map_dict)                \n",
    "\n",
    "    vehicle.TRAVEL_SPD = pd.to_numeric(vehicle.TRAVEL_SPD,errors='coerce')                \n",
    "\n",
    "    vehicle.UNIT_TYPE = pd.to_numeric(vehicle.UNIT_TYPE,errors='coerce')\n",
    "    map_dict = {1:'Motor vehicle in transport',2:'Legally parked',3:'Illegally parked',5:'Hit and run vehicle',\n",
    "                6:'Disabled from a previous crash',11:'Non-motorized',21:'Train',31:'Pedestrian',\n",
    "                32:'Pedestrian on skates, wheelchair, etc.',51:'Phantom vehicle'}\n",
    "    vehicle.UNIT_TYPE = vehicle.UNIT_TYPE.map(map_dict)\n",
    "    return vehicle"
   ]
  },
  {
   "cell_type": "code",
   "execution_count": 74,
   "metadata": {},
   "outputs": [],
   "source": [
    "bicycles = recode_vehicle(bicycles)"
   ]
  },
  {
   "cell_type": "code",
   "execution_count": 75,
   "metadata": {},
   "outputs": [],
   "source": [
    "others_involved = recode_vehicle(others_involved)"
   ]
  },
  {
   "cell_type": "code",
   "execution_count": 76,
   "metadata": {},
   "outputs": [],
   "source": [
    "# some columns appeared in only 2017, so we will drop them\n",
    "cols_to_drop = ['URBAN_AREA',\n",
    " 'COUNTY_NAME',\n",
    " 'MUNICIPALITY_NAME',\n",
    " 'ï»¿ARRIVAL_TM',\n",
    " 'BELTED_SUSP_SERIOUS_INJ_COUNT',\n",
    " 'BICYCLE_SUSP_SERIOUS_INJ_COUNT',\n",
    " 'CHLDPAS_DEATH_COUNT',\n",
    " 'CHLDPAS_SUSP_SERIOUS_INJ_COUNT',\n",
    " 'HORSE_BUGGY_COUNT',\n",
    " 'MCYCLE_SUSP_SERIOUS_INJ_COUNT',\n",
    " 'NONMOTR_COUNT',\n",
    " 'NONMOTR_DEATH_COUNT',\n",
    " 'NONMOTR_SUSP_SERIOUS_INJ_COUNT',\n",
    " 'PED_SUSP_SERIOUS_INJ_COUNT',\n",
    " 'POSSIBLE_INJ_COUNT',\n",
    " 'SUSP_MINOR_INJ_COUNT',\n",
    " 'SUSP_SERIOUS_INJ_COUNT',\n",
    " 'UNB_SUSP_SERIOUS_INJ_COUNT',\n",
    " 'ROADWAY_CLEARED',\n",
    " 'WEATHER1',\n",
    " 'WEATHER2']\n",
    "bike_crashes.drop(columns=cols_to_drop, inplace=True)"
   ]
  },
  {
   "cell_type": "code",
   "execution_count": 77,
   "metadata": {},
   "outputs": [],
   "source": [
    "# recode bike_crashes\n",
    "\n",
    "map_dict = {0:'No',1:'Yes'}\n",
    "bike_crashes.AGGRESSIVE_DRIVING = bike_crashes.AGGRESSIVE_DRIVING.map(map_dict) \n",
    "bike_crashes.ALCOHOL_RELATED = bike_crashes.ALCOHOL_RELATED.map(map_dict) \n",
    "bike_crashes.DRUGGED_DRIVER = bike_crashes.DRUGGED_DRIVER.map(map_dict) \n",
    "bike_crashes.DRUG_RELATED = bike_crashes.DRUG_RELATED.map(map_dict) \n",
    "bike_crashes.FATIGUE_ASLEEP = bike_crashes.FATIGUE_ASLEEP.map(map_dict) \n",
    "bike_crashes.ILLEGAL_DRUG_RELATED = bike_crashes.ILLEGAL_DRUG_RELATED.map(map_dict) \n",
    "bike_crashes.IMPAIRED_DRIVER = bike_crashes.IMPAIRED_DRIVER.map(map_dict) \n",
    "bike_crashes.NHTSA_AGG_DRIVING = bike_crashes.NHTSA_AGG_DRIVING.map(map_dict) \n",
    "bike_crashes.RUNNING_RED_LT = bike_crashes.RUNNING_RED_LT.map(map_dict) \n",
    "bike_crashes.RUNNING_STOP_SIGN = bike_crashes.RUNNING_STOP_SIGN.map(map_dict) \n",
    "bike_crashes.DISTRACTED = bike_crashes.DISTRACTED.map(map_dict)\n",
    "bike_crashes.SPEEDING_RELATED = bike_crashes.SPEEDING_RELATED.map(map_dict) \n",
    "bike_crashes.TAILGATING = bike_crashes.TAILGATING.map(map_dict) \n",
    "\n",
    "bike_crashes.COLLISION_TYPE = pd.to_numeric(bike_crashes.COLLISION_TYPE,errors='coerce')\n",
    "map_dict = {0:'Non-collision',1:'Rear-end',2:'Head-on',3:'Backing',4:'Angle',5:'Sideswipe (same dir.)',\n",
    "            6:'Sideswipe (Opposite dir.)',7:'Hit fixed object',8:'Hit pedestrian',9:'Other or Unknown'}\n",
    "bike_crashes.COLLISION_TYPE = bike_crashes.COLLISION_TYPE.map(map_dict) \n",
    "\n",
    "bike_crashes.ILLUMINATION = pd.to_numeric(bike_crashes.ILLUMINATION,errors='coerce')\n",
    "map_dict = {1:'Daylight',2:'Dark – no street lights',3:'Dark – street lights',4:'Dusk',5:'Dawn',\n",
    "            6:'Dark – unknown roadway lighting',8:'Other',9:'Unknown (expired)'}\n",
    "bike_crashes.ILLUMINATION = bike_crashes.ILLUMINATION.map(map_dict) \n",
    "\n",
    "bike_crashes.INTERSECT_TYPE = pd.to_numeric(bike_crashes.INTERSECT_TYPE,errors='coerce')\n",
    "map_dict = {0:'Mid-block',1:'Four-way intersection',2:'“T” intersection',3:'“Y” intersection',\n",
    "            4:'Traffic Circle/Roundabout (EXPIRED 1/1/18)',5:'Multi-leg intersection',6:'On ramp',\n",
    "            7: 'Off ramp',8:'Crossover',9:'Railroad crossing',10:'Other',11:'“L” Intersection',\n",
    "            12:'Traffic Circle',13:'Roundabout',99:'Unknown (expired)'}\n",
    "bike_crashes.INTERSECT_TYPE = bike_crashes.INTERSECT_TYPE.map(map_dict) \n",
    "\n",
    "bike_crashes.LOCATION_TYPE = pd.to_numeric(bike_crashes.LOCATION_TYPE,errors='coerce')\n",
    "map_dict = {0:'Not applicable',1:'Underpass',2:'Ramp',3:'Bridge',4:'Tunnel',5:'Toll Booth',\n",
    "            6:'Cross over related',7:'Driveway or Parking Lot',8:'Ramp and bridge',9:'Unknown'}\n",
    "bike_crashes.LOCATION_TYPE = bike_crashes.LOCATION_TYPE.map(map_dict) \n",
    "\n",
    "bike_crashes.RELATION_TO_ROAD = pd.to_numeric(bike_crashes.RELATION_TO_ROAD,errors='coerce')\n",
    "map_dict = {1:'On roadway',2:'Shoulder',3:'Median',4:'Roadside (off trafficway; on vehicle area)',\n",
    "            5:'Outside trafficway (in area not meant for vehicles)',6:'In parking lane',\n",
    "            7:'Gore (intersection of ramp and highway)',9:'Unknown'}\n",
    "bike_crashes.RELATION_TO_ROAD = bike_crashes.RELATION_TO_ROAD.map(map_dict) \n",
    "\n",
    "bike_crashes.ROAD_CONDITION = pd.to_numeric(bike_crashes.ROAD_CONDITION,errors='coerce')\n",
    "map_dict = {0:'Dry',1:'Wet',2:'Sand/ mud/ dirt/ oil/ or gravel',3:'Snow covered',\n",
    "            4:'Slush',5:'Ice',6:'Ice Patches',7:'Water – standing or moving',8:'Other',9:'Unknown (expired)'}\n",
    "bike_crashes.ROAD_CONDITION = bike_crashes.ROAD_CONDITION.map(map_dict) \n",
    "# note - there were 6 fatal bike bike_crashes involving snow or ice\n",
    "\n",
    "bike_crashes.TCD_FUNC_CD = pd.to_numeric(bike_crashes.TCD_FUNC_CD,errors='coerce')\n",
    "map_dict = {0:'No Controls',1:'Device not Functioning',2:'Device Functioning improperly',\n",
    "            3:'Device Functioning properly',4:'Emergency Preemptive Signal',9:'Unknown'}\n",
    "bike_crashes.TCD_FUNC_CD = bike_crashes.TCD_FUNC_CD.map(map_dict) \n",
    "\n",
    "bike_crashes.TCD_TYPE = pd.to_numeric(bike_crashes.TCD_TYPE,errors='coerce')\n",
    "map_dict = {0:'Not applicable',1:'Flashing traffic signal',2:'Traffic signal',3:'Stop sign',\n",
    "            4:'Yield sign',5:'Active RR crossing controls',6:'Passive RR crossing controls',\n",
    "            7:'Police officer or flagman',8:'Other Type TCD',9:'Unknown'}\n",
    "bike_crashes.TCD_TYPE = bike_crashes.TCD_TYPE.map(map_dict) \n",
    "\n",
    "bike_crashes.URBAN_RURAL = pd.to_numeric(bike_crashes.URBAN_RURAL,errors='coerce')\n",
    "map_dict = {1:'Rural',2:'Urbanized',3:'Urban'}\n",
    "bike_crashes.URBAN_RURAL = bike_crashes.URBAN_RURAL.map(map_dict) \n",
    "\n",
    "bike_crashes.WEATHER = pd.to_numeric(bike_crashes.WEATHER,errors='coerce')\n",
    "map_dict = {1:'No adverse conditions',2:'Rain',3:'Sleet (hail)',4:'Snow',5:'Fog',\n",
    "            6:'Rain and fog',7:'Sleet and fog',8:'Other',9:'Unknown'}\n",
    "bike_crashes.WEATHER = bike_crashes.WEATHER.map(map_dict) "
   ]
  },
  {
   "cell_type": "code",
   "execution_count": 78,
   "metadata": {},
   "outputs": [],
   "source": [
    "def recode_person(person):\n",
    "    person.DVR_PED_CONDITION = pd.to_numeric(person.DVR_PED_CONDITION,errors='coerce')\n",
    "    map_dict = {0:'Apparently normal',1:'Had been drinking',2:'Illegal drug use',3:'Sick',\n",
    "                4:'Fatigue',5:'Asleep',6:'Medication',9:'Unknown'}\n",
    "    person.DVR_PED_CONDITION = person.DVR_PED_CONDITION.map(map_dict) \n",
    "\n",
    "    person.INJ_SEVERITY = pd.to_numeric(person.INJ_SEVERITY,errors='coerce')\n",
    "    map_dict = {0:'Not injured',1:'Killed',2:'Suspected Serious injury',3:'Suspected Minor injury',\n",
    "                4:'Possible Injury',8:'Injury/ Unknown Severity',9:'Unknown if Injured'}\n",
    "    person.INJ_SEVERITY = person.INJ_SEVERITY.map(map_dict)       \n",
    "\n",
    "    person.PERSON_TYPE = pd.to_numeric(person.PERSON_TYPE,errors='coerce')\n",
    "    map_dict = {1:'Driver',2:'Passenger',7:'Pedestrian',8:'Other',9:'Unknown'}\n",
    "    person.PERSON_TYPE = person.PERSON_TYPE.map(map_dict)\n",
    "    return person"
   ]
  },
  {
   "cell_type": "code",
   "execution_count": 79,
   "metadata": {},
   "outputs": [],
   "source": [
    "persons_involved = recode_person(persons_involved)"
   ]
  },
  {
   "cell_type": "markdown",
   "metadata": {},
   "source": [
    "### Check file dimensions and write to CSV"
   ]
  },
  {
   "cell_type": "code",
   "execution_count": 28,
   "metadata": {
    "scrolled": false
   },
   "outputs": [
    {
     "data": {
      "text/plain": [
       "(28487, 49)"
      ]
     },
     "execution_count": 28,
     "metadata": {},
     "output_type": "execute_result"
    }
   ],
   "source": [
    "others_involved.shape"
   ]
  },
  {
   "cell_type": "code",
   "execution_count": 29,
   "metadata": {},
   "outputs": [
    {
     "data": {
      "text/plain": [
       "(28136, 53)"
      ]
     },
     "execution_count": 29,
     "metadata": {},
     "output_type": "execute_result"
    }
   ],
   "source": [
    "bicycles.shape"
   ]
  },
  {
   "cell_type": "code",
   "execution_count": 30,
   "metadata": {},
   "outputs": [
    {
     "data": {
      "text/plain": [
       "(27916, 123)"
      ]
     },
     "execution_count": 30,
     "metadata": {},
     "output_type": "execute_result"
    }
   ],
   "source": [
    "bike_crashes.shape"
   ]
  },
  {
   "cell_type": "code",
   "execution_count": 31,
   "metadata": {},
   "outputs": [
    {
     "data": {
      "text/plain": [
       "(63957, 33)"
      ]
     },
     "execution_count": 31,
     "metadata": {},
     "output_type": "execute_result"
    }
   ],
   "source": [
    "persons_involved.shape"
   ]
  },
  {
   "cell_type": "code",
   "execution_count": 32,
   "metadata": {},
   "outputs": [
    {
     "data": {
      "text/plain": [
       "(50286, 18)"
      ]
     },
     "execution_count": 32,
     "metadata": {},
     "output_type": "execute_result"
    }
   ],
   "source": [
    "roadway.shape"
   ]
  },
  {
   "cell_type": "code",
   "execution_count": 92,
   "metadata": {},
   "outputs": [],
   "source": [
    "# write files to CSV\n",
    "persons_involved.to_csv('../data/person.csv', index=False)\n",
    "bicycles.to_csv('../data/bicycles.csv', index=False)\n",
    "others_involved.to_csv('../data/others_involved.csv', index=False)\n",
    "roadway.to_csv('../data/roadway.csv', index=False)\n",
    "bike_crashes.to_csv('../data/crashes.csv', index=False)"
   ]
  }
 ],
 "metadata": {
  "kernelspec": {
   "display_name": "Python 3",
   "language": "python",
   "name": "python3"
  },
  "language_info": {
   "codemirror_mode": {
    "name": "ipython",
    "version": 3
   },
   "file_extension": ".py",
   "mimetype": "text/x-python",
   "name": "python",
   "nbconvert_exporter": "python",
   "pygments_lexer": "ipython3",
   "version": "3.6.8"
  }
 },
 "nbformat": 4,
 "nbformat_minor": 2
}
